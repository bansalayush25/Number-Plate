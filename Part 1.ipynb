{
 "cells": [
  {
   "cell_type": "code",
   "execution_count": 1,
   "metadata": {
    "collapsed": true
   },
   "outputs": [],
   "source": [
    "import cv2\n",
    "import numpy as np\n",
    "import math\n",
    "import random"
   ]
  },
  {
   "cell_type": "code",
   "execution_count": 2,
   "metadata": {
    "collapsed": false
   },
   "outputs": [],
   "source": [
    "img = cv2.imread('/home/ayush/My Projects/Number Plate/1.png')"
   ]
  },
  {
   "cell_type": "code",
   "execution_count": 3,
   "metadata": {
    "collapsed": false
   },
   "outputs": [],
   "source": [
    "class PossibleChar:\n",
    "    def __init__(self, contour):\n",
    "        self.contour = contour\n",
    "        self.rect = cv2.boundingRect(self.contour)\n",
    "        [X, Y, width, height] = self.rect\n",
    "        self.X = X\n",
    "        self.Y = Y\n",
    "        self.width = width\n",
    "        self.height = height\n",
    "        \n",
    "        self.area = self.width * self.height\n",
    "        \n",
    "        self.centerX = self.X + (float)(self.width)/2\n",
    "        self.centerY = self.Y + (float)(self.height)/2\n",
    "        \n",
    "        self.diagDist = math.sqrt(self.height**2 + self.width**2)\n",
    "        \n",
    "        self.aspect_ratio = float(self.width)/float(self.height)\n",
    "        "
   ]
  },
  {
   "cell_type": "code",
   "execution_count": 4,
   "metadata": {
    "collapsed": false
   },
   "outputs": [],
   "source": [
    "def display(img, name):\n",
    "    cv2.imshow(name, img)\n",
    "    cv2.waitKey(0)\n",
    "    cv2.destroyAllWindows()"
   ]
  },
  {
   "cell_type": "code",
   "execution_count": 5,
   "metadata": {
    "collapsed": true
   },
   "outputs": [],
   "source": [
    "def preprocess(img):\n",
    "    ### HSV SHOWS BRIHGTENED REGIONS BETTER THAN GRAY\n",
    "    hsv = cv2.cvtColor(img, cv2.COLOR_BGR2HSV)\n",
    "    imgHue, imgSat, imgValue = cv2.split(hsv)\n",
    "    \n",
    "    kernel = cv2.getStructuringElement(cv2.MORPH_RECT, (3, 3))\n",
    "    tophat = cv2.morphologyEx(imgValue, cv2.MORPH_TOPHAT, kernel)\n",
    "    blackhat = cv2.morphologyEx(imgValue, cv2.MORPH_BLACKHAT, kernel)\n",
    "    top_plus_black = cv2.add(imgValue, tophat)\n",
    "    top_plus_black_minus_black = cv2.subtract(top_plus_black, blackhat)\n",
    "\n",
    "    blur = cv2.GaussianBlur(top_plus_black_minus_black, (5, 5), 0)\n",
    "    thresh = cv2.adaptiveThreshold(blur, 255.0, cv2.ADAPTIVE_THRESH_GAUSSIAN_C, cv2.THRESH_BINARY_INV, 19, 9)\n",
    "#     display(thresh, \"Thresholded Image\")\n",
    "    return imgValue, thresh"
   ]
  },
  {
   "cell_type": "code",
   "execution_count": 6,
   "metadata": {
    "collapsed": false
   },
   "outputs": [],
   "source": [
    "imgGray, imgThresh = preprocess(img)"
   ]
  },
  {
   "cell_type": "code",
   "execution_count": 7,
   "metadata": {
    "collapsed": false
   },
   "outputs": [],
   "source": [
    "imgThreshCopy = imgThresh.copy()\n",
    "img2, contours, hierarchy = cv2.findContours(imgThreshCopy, cv2.RETR_LIST , cv2.CHAIN_APPROX_SIMPLE)"
   ]
  },
  {
   "cell_type": "code",
   "execution_count": 8,
   "metadata": {
    "collapsed": false
   },
   "outputs": [],
   "source": [
    "MIN_AREA = 100\n",
    "MIN_WIDTH = 4\n",
    "MIN_HEIGHT = 8\n",
    "MIN_ASPECT_RATIO = 0.25\n",
    "MAX_ASPECT_RATIO = 1.0\n",
    "def detect_chars(imgThresh):\n",
    "    possiblechars = []\n",
    "    imgContour = np.zeros((imgThresh.shape[0], imgThresh.shape[1], 3), np.uint8)\n",
    "    for i in range(len(contours)):\n",
    "    #     cv2.drawContours(imgContour, contours, i, (255.0, 255.0, 255.0))\n",
    "        possibleChar = PossibleChar(contours[i])\n",
    "        if (possibleChar.area>MIN_AREA and possibleChar.width>MIN_WIDTH and possibleChar.height>MIN_HEIGHT and \n",
    "            possibleChar.aspect_ratio>MIN_ASPECT_RATIO and possibleChar.aspect_ratio<MAX_ASPECT_RATIO):\n",
    "            \n",
    "            cv2.drawContours(imgContour, contours, i, (255.0, 255.0, 255.0))\n",
    "            possiblechars.append(possibleChar)\n",
    "            \n",
    "    display(imgContour, \"{}\".format(i))\n",
    "    return possiblechars"
   ]
  },
  {
   "cell_type": "code",
   "execution_count": 9,
   "metadata": {
    "collapsed": false
   },
   "outputs": [],
   "source": [
    "possiblechars = detect_chars(imgThresh)"
   ]
  },
  {
   "cell_type": "code",
   "execution_count": 12,
   "metadata": {
    "collapsed": true
   },
   "outputs": [],
   "source": [
    "def findListOfListsOfMatchingChars(listOfPossibleChars):\n",
    "\n",
    "    listOfListsOfMatchingChars = []\n",
    "\n",
    "    for possibleChar in listOfPossibleChars:\n",
    "        listOfMatchingChars = []\n",
    "\n",
    "        for possibleMatchingChar in listOfPossibleChars:\n",
    "            if possibleMatchingChar == possibleChar:\n",
    "                continue\n",
    "            fltDistanceBetweenChars = distanceBetweenChars(possibleChar, possibleMatchingChar)\n",
    "\n",
    "            fltAngleBetweenChars = angleBetweenChars(possibleChar, possibleMatchingChar)\n",
    "\n",
    "            fltChangeInArea = float(abs(possibleMatchingChar.area - possibleChar.area)) / float(possibleChar.area)\n",
    "\n",
    "            fltChangeInWidth = float(abs(possibleMatchingChar.width - possibleChar.width)) / float(possibleChar.width)\n",
    "            fltChangeInHeight = float(abs(possibleMatchingChar.height - possibleChar.height)) / float(possibleChar.height)\n",
    "\n",
    "            if (fltDistanceBetweenChars < (possibleChar.diagDist * 5.0) and\n",
    "                fltAngleBetweenChars < 12.0 and\n",
    "                fltChangeInArea < 0.5 and\n",
    "                fltChangeInWidth < 0.8 and\n",
    "                fltChangeInHeight < 0.2):\n",
    "\n",
    "                listOfMatchingChars.append(possibleMatchingChar)\n",
    "\n",
    "        listOfMatchingChars.append(possibleChar)\n",
    "\n",
    "        if len(listOfMatchingChars) < 3:\n",
    "            continue\n",
    "        \n",
    "        listOfListsOfMatchingChars.append(listOfMatchingChars)\n",
    "\n",
    "        listOfPossibleChars = list(set(listOfPossibleChars) - set(listOfMatchingChars))\n",
    "\n",
    "    return listOfListsOfMatchingChars\n",
    "\n",
    "\n",
    "def distanceBetweenChars(firstChar, secondChar):\n",
    "    intX = abs(firstChar.centerX - secondChar.centerX)\n",
    "    intY = abs(firstChar.centerY - secondChar.centerY)\n",
    "    return math.sqrt((intX ** 2) + (intY ** 2))\n",
    "\n",
    "\n",
    "def angleBetweenChars(firstChar, secondChar):\n",
    "    fltAdj = float(abs(firstChar.centerX - secondChar.centerX))\n",
    "    fltOpp = float(abs(firstChar.centerY - secondChar.centerY))\n",
    "    if fltAdj != 0.0:\n",
    "        fltAngleInRad = math.atan(fltOpp / fltAdj)\n",
    "    else:\n",
    "        fltAngleInRad = 1.5708\n",
    "    fltAngleInDeg = fltAngleInRad * (180.0 / math.pi)\n",
    "    return fltAngleInDeg"
   ]
  },
  {
   "cell_type": "code",
   "execution_count": 13,
   "metadata": {
    "collapsed": false
   },
   "outputs": [
    {
     "name": "stdout",
     "output_type": "stream",
     "text": [
      "15\n"
     ]
    }
   ],
   "source": [
    "listlistMatchingChars = findListOfListsOfMatchingChars(possiblechars)\n",
    "print len(listlistMatchingChars)"
   ]
  },
  {
   "cell_type": "code",
   "execution_count": 17,
   "metadata": {
    "collapsed": false
   },
   "outputs": [],
   "source": [
    "imgContours = np.zeros((imgThresh.shape[0], imgThresh.shape[1], 3), np.uint8)\n",
    "\n",
    "for listOfMatchingChars in listlistMatchingChars:\n",
    "    contours = []\n",
    "    for matchingChar in listOfMatchingChars:\n",
    "        contours.append(matchingChar.contour)\n",
    "        cv2.drawContours(imgContours, contours, -1, (255.0, 255.0, 255.0))\n",
    "\n",
    "display(imgContours, \"Reduced Image\")"
   ]
  },
  {
   "cell_type": "code",
   "execution_count": null,
   "metadata": {
    "collapsed": false
   },
   "outputs": [],
   "source": []
  },
  {
   "cell_type": "code",
   "execution_count": null,
   "metadata": {
    "collapsed": true
   },
   "outputs": [],
   "source": []
  }
 ],
 "metadata": {
  "kernelspec": {
   "display_name": "Python 2",
   "language": "python",
   "name": "python2"
  },
  "language_info": {
   "codemirror_mode": {
    "name": "ipython",
    "version": 2
   },
   "file_extension": ".py",
   "mimetype": "text/x-python",
   "name": "python",
   "nbconvert_exporter": "python",
   "pygments_lexer": "ipython2",
   "version": "2.7.12"
  }
 },
 "nbformat": 4,
 "nbformat_minor": 2
}
