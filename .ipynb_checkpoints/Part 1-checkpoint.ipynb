{
 "cells": [
  {
   "cell_type": "code",
   "execution_count": 1,
   "metadata": {
    "collapsed": true
   },
   "outputs": [],
   "source": [
    "import cv2\n",
    "import numpy as np"
   ]
  },
  {
   "cell_type": "code",
   "execution_count": 2,
   "metadata": {
    "collapsed": false
   },
   "outputs": [],
   "source": [
    "img = cv2.imread('/home/ayush/My Projects/Number Plate/1.png')"
   ]
  },
  {
   "cell_type": "code",
   "execution_count": 19,
   "metadata": {
    "collapsed": true
   },
   "outputs": [],
   "source": [
    "class PossibleChar:\n",
    "    def __init__(self, contour):\n",
    "        self.contour = contour\n",
    "        self.rect = cv2.boundingRect(self.contour)\n",
    "        [X, Y, width, height] = self.rect\n",
    "        self.X = X\n",
    "        self.Y = Y\n",
    "        self.width = width\n",
    "        self.height = height\n",
    "        \n",
    "        self.area = self.width * self.height\n",
    "        \n",
    "        self.aspect_ratio = float(self.width)/float(self.height)\n",
    "        "
   ]
  },
  {
   "cell_type": "code",
   "execution_count": 11,
   "metadata": {
    "collapsed": false
   },
   "outputs": [],
   "source": [
    "def display(img, name):\n",
    "    cv2.imshow(name, img)\n",
    "    cv2.waitKey(0)\n",
    "    cv2.destroyAllWindows()"
   ]
  },
  {
   "cell_type": "code",
   "execution_count": 12,
   "metadata": {
    "collapsed": true
   },
   "outputs": [],
   "source": [
    "def preprocess(img):\n",
    "    ### HSV SHOWS BRIHGTENED REGIONS BETTER THAN GRAY\n",
    "    hsv = cv2.cvtColor(img, cv2.COLOR_BGR2HSV)\n",
    "    imgHue, imgSat, imgValue = cv2.split(hsv)\n",
    "    \n",
    "    kernel = cv2.getStructuringElement(cv2.MORPH_RECT, (3, 3))\n",
    "    tophat = cv2.morphologyEx(imgValue, cv2.MORPH_TOPHAT, kernel)\n",
    "    blackhat = cv2.morphologyEx(imgValue, cv2.MORPH_BLACKHAT, kernel)\n",
    "    top_plus_black = cv2.add(imgValue, tophat)\n",
    "    top_plus_black_minus_black = cv2.subtract(top_plus_black, blackhat)\n",
    "\n",
    "    blur = cv2.GaussianBlur(top_plus_black_minus_black, (5, 5), 0)\n",
    "    thresh = cv2.adaptiveThreshold(blur, 255.0, cv2.ADAPTIVE_THRESH_GAUSSIAN_C, cv2.THRESH_BINARY_INV, 19, 9)\n",
    "    display(thresh, \"Thresholded Image\")\n",
    "    return imgValue, thresh"
   ]
  },
  {
   "cell_type": "code",
   "execution_count": 13,
   "metadata": {
    "collapsed": false
   },
   "outputs": [],
   "source": [
    "imgGray, imgThresh = preprocess(img)"
   ]
  },
  {
   "cell_type": "code",
   "execution_count": 14,
   "metadata": {
    "collapsed": false
   },
   "outputs": [],
   "source": [
    "imgThreshCopy = imgThresh.copy()\n",
    "img2, contours, hierarchy = cv2.findContours(imgThreshCopy, cv2.RETR_LIST , cv2.CHAIN_APPROX_SIMPLE)"
   ]
  },
  {
   "cell_type": "code",
   "execution_count": 38,
   "metadata": {
    "collapsed": false
   },
   "outputs": [],
   "source": [
    "MIN_AREA = 100\n",
    "MIN_WIDTH = 4\n",
    "MIN_HEIGHT = 8\n",
    "MIN_ASPECT_RATIO = 0.25\n",
    "MAX_ASPECT_RATIO = 1.0\n",
    "def detect_chars(imgThresh):\n",
    "    possiblechars = []\n",
    "    imgContour = np.zeros((imgThresh.shape[0], imgThresh.shape[1], 3), np.uint8)\n",
    "    for i in range(len(contours)):\n",
    "    #     cv2.drawContours(imgContour, contours, i, (255.0, 255.0, 255.0))\n",
    "        possibleChar = PossibleChar(contours[i])\n",
    "        if (possibleChar.area>MIN_AREA and possibleChar.width>MIN_WIDTH and possibleChar.height>MIN_HEIGHT and \n",
    "            possibleChar.aspect_ratio>MIN_ASPECT_RATIO and possibleChar.aspect_ratio<MAX_ASPECT_RATIO):\n",
    "            \n",
    "            cv2.drawContours(imgContour, contours, i, (255.0, 255.0, 255.0))\n",
    "            possiblechars.append(possibleChar)\n",
    "            \n",
    "    display(imgContour, \"{}\".format(i))\n",
    "    return possiblechars"
   ]
  },
  {
   "cell_type": "code",
   "execution_count": 39,
   "metadata": {
    "collapsed": false
   },
   "outputs": [],
   "source": [
    "possiblechars = detect_chars(imgThresh)"
   ]
  },
  {
   "cell_type": "code",
   "execution_count": null,
   "metadata": {
    "collapsed": false
   },
   "outputs": [],
   "source": []
  },
  {
   "cell_type": "code",
   "execution_count": null,
   "metadata": {
    "collapsed": true
   },
   "outputs": [],
   "source": []
  }
 ],
 "metadata": {
  "kernelspec": {
   "display_name": "Python 2",
   "language": "python",
   "name": "python2"
  },
  "language_info": {
   "codemirror_mode": {
    "name": "ipython",
    "version": 2
   },
   "file_extension": ".py",
   "mimetype": "text/x-python",
   "name": "python",
   "nbconvert_exporter": "python",
   "pygments_lexer": "ipython2",
   "version": "2.7.12"
  }
 },
 "nbformat": 4,
 "nbformat_minor": 2
}
